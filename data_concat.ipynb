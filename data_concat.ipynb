{
 "cells": [
  {
   "cell_type": "markdown",
   "metadata": {},
   "source": [
    "## 여러 CSV 파일 전부 합치기\n",
    "\n",
    "- 이 파일이 위치하는 폴더(작업 폴더)안에 폴더를 하나 만들고 그 안에 CSV 파일 전부 넣으면 됩니다."
   ]
  },
  {
   "cell_type": "code",
   "execution_count": 13,
   "metadata": {},
   "outputs": [],
   "source": [
    "import os\n",
    "import pandas as pd\n",
    "import re\n",
    "import datetime\n",
    "\n",
    "now = datetime.datetime.now().strftime('%Y-%m-%d_%H%M%S')\n",
    "\n",
    "# ★★★★★★★★★★★★★★★★★★★★★★★★\n",
    "# < 직접 수정하는 부분 >\n",
    "# ★★★★★★★★★★★★★★★★★★★★★★★★\n",
    "input_folder = \"full_file\"       # CSV 파일들이 있는 폴더\n",
    "\n",
    "output_file = f\"merged_data_{now}.csv\"  # 저장할 파일명"
   ]
  },
  {
   "cell_type": "code",
   "execution_count": 14,
   "metadata": {},
   "outputs": [],
   "source": [
    "# 특수문자 제거 함수\n",
    "def remove_special_characters(text):\n",
    "    return re.sub(r'[^\\w\\s]', '', text) if isinstance(text, str) else text\n",
    "\n",
    "# 한글과 영어 순서를 정렬하는 함수 - 한글 제목과 영어 제목이 서로 다른 순서로 정렬되어있는 경우에도 중복을 제거할 수 있게끔 설정정\n",
    "def normalize_title(title):\n",
    "    if isinstance(title, str):\n",
    "        # 한글과 영어를 분리\n",
    "        korean = \" \".join(re.findall(r'[가-힣]+', title))\n",
    "        english = \" \".join(re.findall(r'[a-zA-Z]+', title))\n",
    "        # 한글과 영어를 알파벳 순으로 정렬\n",
    "        return \" \".join(sorted([korean, english])).strip()\n",
    "    return title"
   ]
  },
  {
   "cell_type": "code",
   "execution_count": 15,
   "metadata": {},
   "outputs": [
    {
     "name": "stdout",
     "output_type": "stream",
     "text": [
      "Merged and deduplicated data saved to merged_data_2025-01-16_214512.csv\n"
     ]
    }
   ],
   "source": [
    "all_data = []\n",
    "\n",
    "# input_folder에 있는 모든 CSV 파일 읽기\n",
    "for file in os.listdir(input_folder):\n",
    "    if file.endswith('.csv'):\n",
    "        file_path = os.path.join(input_folder, file)\n",
    "        df = pd.read_csv(file_path)\n",
    "\n",
    "        # 열 이름에 따라 처리\n",
    "        if 'abstract' in df.columns:  # 새로운 형식의 CSV 파일\n",
    "            df.rename(columns={'abstract': '요약', '날짜': '발행연도'}, inplace=True)\n",
    "            df['발행연도'] = df['발행연도'].astype(str).str[:4]  # 날짜에서 연도만 추출\n",
    "\n",
    "        # 제목 열과 요약 열에서 특수문자 제거\n",
    "        if '제목' in df.columns:\n",
    "            df['제목'] = df['제목'].apply(remove_special_characters)\n",
    "            df['제목'] = df['제목'].apply(normalize_title)  # 제목 정규화\n",
    "        if '요약' in df.columns:\n",
    "            df['요약'] = df['요약'].apply(remove_special_characters)\n",
    "\n",
    "        # 필요한 열만 유지, 누락된 열 추가\n",
    "        for col in ['제목', '키워드', '발행연도', '요약']:\n",
    "            if col not in df.columns:\n",
    "                df[col] = None\n",
    "        df = df[['제목', '키워드', '발행연도', '요약']]\n",
    "\n",
    "        all_data.append(df)\n",
    "\n",
    "# 모든 데이터를 하나로 합치기\n",
    "merged_data = pd.concat(all_data, ignore_index=True)\n",
    "\n",
    "# 제목 기준으로 중복 제거\n",
    "if '제목' in merged_data.columns:\n",
    "    merged_data = merged_data.drop_duplicates(subset=['제목'])\n",
    "\n",
    "# 결과를 새로운 CSV 파일로 저장\n",
    "merged_data.to_csv(output_file, index=False, encoding='utf-8-sig')\n",
    "print(f\"Merged and deduplicated data saved to {output_file}\")"
   ]
  },
  {
   "cell_type": "code",
   "execution_count": null,
   "metadata": {},
   "outputs": [],
   "source": []
  }
 ],
 "metadata": {
  "kernelspec": {
   "display_name": "Python 3",
   "language": "python",
   "name": "python3"
  },
  "language_info": {
   "codemirror_mode": {
    "name": "ipython",
    "version": 3
   },
   "file_extension": ".py",
   "mimetype": "text/x-python",
   "name": "python",
   "nbconvert_exporter": "python",
   "pygments_lexer": "ipython3",
   "version": "3.11.5"
  }
 },
 "nbformat": 4,
 "nbformat_minor": 2
}
